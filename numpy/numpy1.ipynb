{
 "cells": [
  {
   "cell_type": "code",
   "execution_count": 1,
   "metadata": {},
   "outputs": [],
   "source": [
    "import csv\n",
    "import numpy as np\n",
    "\n",
    "# import nyc_taxi.csv as a list of lists\n",
    "f = open(\"/Users/saurabh/Documents/MLsets/nyc_taxis.csv\", \"r\")\n",
    "taxi_list = list(csv.reader(f))\n",
    "\n",
    "# remove the header row\n",
    "taxi_list = taxi_list[1:]\n",
    "\n",
    "# convert all values to floats\n",
    "converted_taxi_list = []\n",
    "for row in taxi_list:\n",
    "    converted_row = []\n",
    "    for item in row:\n",
    "        converted_row.append(float(item))\n",
    "    converted_taxi_list.append(converted_row)"
   ]
  },
  {
   "cell_type": "code",
   "execution_count": 3,
   "metadata": {},
   "outputs": [],
   "source": [
    "taxi=np.array(converted_taxi_list)"
   ]
  },
  {
   "cell_type": "code",
   "execution_count": 5,
   "metadata": {},
   "outputs": [
    {
     "name": "stdout",
     "output_type": "stream",
     "text": [
      "[[2.016e+03 1.000e+00 1.000e+00 ... 1.165e+01 6.999e+01 1.000e+00]\n",
      " [2.016e+03 1.000e+00 1.000e+00 ... 8.000e+00 5.430e+01 1.000e+00]\n",
      " [2.016e+03 1.000e+00 1.000e+00 ... 0.000e+00 3.780e+01 2.000e+00]\n",
      " ...\n",
      " [2.016e+03 6.000e+00 3.000e+01 ... 5.000e+00 6.334e+01 1.000e+00]\n",
      " [2.016e+03 6.000e+00 3.000e+01 ... 8.950e+00 4.475e+01 1.000e+00]\n",
      " [2.016e+03 6.000e+00 3.000e+01 ... 0.000e+00 5.484e+01 2.000e+00]]\n"
     ]
    }
   ],
   "source": [
    "print(taxi)"
   ]
  },
  {
   "cell_type": "code",
   "execution_count": 6,
   "metadata": {},
   "outputs": [
    {
     "data": {
      "text/plain": [
       "(89560, 15)"
      ]
     },
     "execution_count": 6,
     "metadata": {},
     "output_type": "execute_result"
    }
   ],
   "source": [
    "taxi.shape"
   ]
  },
  {
   "cell_type": "code",
   "execution_count": 8,
   "metadata": {},
   "outputs": [
    {
     "data": {
      "text/plain": [
       "array([[2.016e+03, 1.000e+00, 1.000e+00, ..., 0.000e+00, 3.780e+01,\n",
       "        2.000e+00],\n",
       "       [2.016e+03, 1.000e+00, 1.000e+00, ..., 5.460e+00, 3.276e+01,\n",
       "        1.000e+00],\n",
       "       [2.016e+03, 1.000e+00, 1.000e+00, ..., 0.000e+00, 1.880e+01,\n",
       "        2.000e+00],\n",
       "       ...,\n",
       "       [2.016e+03, 6.000e+00, 3.000e+01, ..., 5.000e+00, 6.334e+01,\n",
       "        1.000e+00],\n",
       "       [2.016e+03, 6.000e+00, 3.000e+01, ..., 8.950e+00, 4.475e+01,\n",
       "        1.000e+00],\n",
       "       [2.016e+03, 6.000e+00, 3.000e+01, ..., 0.000e+00, 5.484e+01,\n",
       "        2.000e+00]])"
      ]
     },
     "execution_count": 8,
     "metadata": {},
     "output_type": "execute_result"
    }
   ],
   "source": [
    "taxi[2:]   #selects all rows starting from 2nd row"
   ]
  },
  {
   "cell_type": "code",
   "execution_count": 9,
   "metadata": {},
   "outputs": [
    {
     "data": {
      "text/plain": [
       "array([[2.016e+03, 1.000e+00, 1.000e+00, 5.000e+00, 0.000e+00, 2.000e+00,\n",
       "        1.000e+00, 1.629e+01, 1.520e+03, 4.500e+01, 1.300e+00, 0.000e+00,\n",
       "        8.000e+00, 5.430e+01, 1.000e+00],\n",
       "       [2.016e+03, 1.000e+00, 1.000e+00, 5.000e+00, 0.000e+00, 2.000e+00,\n",
       "        6.000e+00, 1.270e+01, 1.462e+03, 3.650e+01, 1.300e+00, 0.000e+00,\n",
       "        0.000e+00, 3.780e+01, 2.000e+00],\n",
       "       [2.016e+03, 1.000e+00, 1.000e+00, 5.000e+00, 0.000e+00, 2.000e+00,\n",
       "        6.000e+00, 8.700e+00, 1.210e+03, 2.600e+01, 1.300e+00, 0.000e+00,\n",
       "        5.460e+00, 3.276e+01, 1.000e+00]])"
      ]
     },
     "execution_count": 9,
     "metadata": {},
     "output_type": "execute_result"
    }
   ],
   "source": [
    "taxi[1:4]  #first three rows"
   ]
  },
  {
   "cell_type": "code",
   "execution_count": 13,
   "metadata": {},
   "outputs": [
    {
     "data": {
      "text/plain": [
       "5.0"
      ]
     },
     "execution_count": 13,
     "metadata": {},
     "output_type": "execute_result"
    }
   ],
   "source": [
    "taxi[1,3]  #select an item at first row and 3rd column"
   ]
  },
  {
   "cell_type": "code",
   "execution_count": 15,
   "metadata": {},
   "outputs": [
    {
     "data": {
      "text/plain": [
       "array([2.016e+03, 1.000e+00, 1.000e+00, 5.000e+00, 0.000e+00, 2.000e+00,\n",
       "       4.000e+00, 2.100e+01, 2.037e+03, 5.200e+01, 8.000e-01, 5.540e+00,\n",
       "       1.165e+01, 6.999e+01, 1.000e+00])"
      ]
     },
     "execution_count": 15,
     "metadata": {},
     "output_type": "execute_result"
    }
   ],
   "source": [
    "taxi[0]  #select first row"
   ]
  },
  {
   "cell_type": "code",
   "execution_count": 20,
   "metadata": {},
   "outputs": [
    {
     "data": {
      "text/plain": [
       "array([2016., 2016., 2016., ..., 2016., 2016., 2016.])"
      ]
     },
     "execution_count": 20,
     "metadata": {},
     "output_type": "execute_result"
    }
   ],
   "source": [
    "taxi[:,0]  #selecting only first column"
   ]
  },
  {
   "cell_type": "code",
   "execution_count": 23,
   "metadata": {},
   "outputs": [
    {
     "data": {
      "text/plain": [
       "array([[2.016e+03, 1.000e+00, 1.000e+00],\n",
       "       [2.016e+03, 1.000e+00, 1.000e+00],\n",
       "       [2.016e+03, 1.000e+00, 1.000e+00],\n",
       "       ...,\n",
       "       [2.016e+03, 6.000e+00, 3.000e+01],\n",
       "       [2.016e+03, 6.000e+00, 3.000e+01],\n",
       "       [2.016e+03, 6.000e+00, 3.000e+01]])"
      ]
     },
     "execution_count": 23,
     "metadata": {},
     "output_type": "execute_result"
    }
   ],
   "source": [
    "taxi[:,0:3]   #selecting first three columns at indices 0,1,2"
   ]
  },
  {
   "cell_type": "code",
   "execution_count": 24,
   "metadata": {},
   "outputs": [],
   "source": [
    "cols=[1,3,4]"
   ]
  },
  {
   "cell_type": "code",
   "execution_count": 27,
   "metadata": {},
   "outputs": [
    {
     "data": {
      "text/plain": [
       "array([[1., 5., 0.],\n",
       "       [1., 5., 0.],\n",
       "       [1., 5., 0.],\n",
       "       ...,\n",
       "       [6., 4., 5.],\n",
       "       [6., 4., 5.],\n",
       "       [6., 4., 5.]])"
      ]
     },
     "execution_count": 27,
     "metadata": {},
     "output_type": "execute_result"
    }
   ],
   "source": [
    "taxi[:,cols]   #selecting random columns"
   ]
  },
  {
   "cell_type": "code",
   "execution_count": 28,
   "metadata": {},
   "outputs": [
    {
     "data": {
      "text/plain": [
       "array([1., 1., 5.])"
      ]
     },
     "execution_count": 28,
     "metadata": {},
     "output_type": "execute_result"
    }
   ],
   "source": [
    "taxi[2,1:4]  #columns at at indices 1,2,3 and row 2"
   ]
  },
  {
   "cell_type": "code",
   "execution_count": 31,
   "metadata": {},
   "outputs": [
    {
     "data": {
      "text/plain": [
       "array([0., 0., 0., ..., 5., 5., 5.])"
      ]
     },
     "execution_count": 31,
     "metadata": {},
     "output_type": "execute_result"
    }
   ],
   "source": [
    "taxi[1:,4]  #row indices 1 onwards at column indice 4"
   ]
  },
  {
   "cell_type": "code",
   "execution_count": 33,
   "metadata": {},
   "outputs": [
    {
     "data": {
      "text/plain": [
       "array([[2.016e+03, 1.000e+00, 1.000e+00],\n",
       "       [2.016e+03, 1.000e+00, 1.000e+00],\n",
       "       [2.016e+03, 1.000e+00, 1.000e+00]])"
      ]
     },
     "execution_count": 33,
     "metadata": {},
     "output_type": "execute_result"
    }
   ],
   "source": [
    "taxi[0:3,:3]  #first three rows and first three columns"
   ]
  },
  {
   "cell_type": "code",
   "execution_count": 35,
   "metadata": {},
   "outputs": [
    {
     "data": {
      "text/plain": [
       "array([0. , 0. , 0. , ..., 0.8, 0. , 0. ])"
      ]
     },
     "execution_count": 35,
     "metadata": {},
     "output_type": "execute_result"
    }
   ],
   "source": [
    "taxi.min(axis=1) #minimum of each row"
   ]
  },
  {
   "cell_type": "code",
   "execution_count": 37,
   "metadata": {},
   "outputs": [
    {
     "data": {
      "text/plain": [
       "array([ 2.016e+03,  1.000e+00,  1.000e+00,  1.000e+00,  0.000e+00,\n",
       "        0.000e+00,  0.000e+00,  0.000e+00,  1.000e+00, -5.200e+01,\n",
       "       -1.800e+00, -5.540e+00,  0.000e+00, -5.834e+01,  1.000e+00])"
      ]
     },
     "execution_count": 37,
     "metadata": {},
     "output_type": "execute_result"
    }
   ],
   "source": [
    "taxi.min(axis=0) #minimum of each column"
   ]
  },
  {
   "cell_type": "code",
   "execution_count": 39,
   "metadata": {},
   "outputs": [],
   "source": [
    "taxi_5=taxi[:5]  #taking first 5 rows"
   ]
  },
  {
   "cell_type": "code",
   "execution_count": 42,
   "metadata": {},
   "outputs": [],
   "source": [
    "taxi_con=taxi_5[:,9:13]  #columns from 9 to 12 inclusive"
   ]
  },
  {
   "cell_type": "code",
   "execution_count": 43,
   "metadata": {},
   "outputs": [
    {
     "data": {
      "text/plain": [
       "array([[52.  ,  0.8 ,  5.54, 11.65],\n",
       "       [45.  ,  1.3 ,  0.  ,  8.  ],\n",
       "       [36.5 ,  1.3 ,  0.  ,  0.  ],\n",
       "       [26.  ,  1.3 ,  0.  ,  5.46],\n",
       "       [17.5 ,  1.3 ,  0.  ,  0.  ]])"
      ]
     },
     "execution_count": 43,
     "metadata": {},
     "output_type": "execute_result"
    }
   ],
   "source": [
    "taxi_con"
   ]
  },
  {
   "cell_type": "code",
   "execution_count": null,
   "metadata": {},
   "outputs": [],
   "source": []
  }
 ],
 "metadata": {
  "kernelspec": {
   "display_name": "Python 3",
   "language": "python",
   "name": "python3"
  },
  "language_info": {
   "codemirror_mode": {
    "name": "ipython",
    "version": 3
   },
   "file_extension": ".py",
   "mimetype": "text/x-python",
   "name": "python",
   "nbconvert_exporter": "python",
   "pygments_lexer": "ipython3",
   "version": "3.7.4"
  }
 },
 "nbformat": 4,
 "nbformat_minor": 2
}
