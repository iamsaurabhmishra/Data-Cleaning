{
 "cells": [
  {
   "cell_type": "code",
   "execution_count": 1,
   "metadata": {},
   "outputs": [],
   "source": [
    "import numpy as np\n",
    "import pandas as pd\n",
    "float_formatter = \"{:.2f}\".format\n",
    "\n",
    "np.set_printoptions(formatter={'float_kind':float_formatter})\n",
    "#reading files into numpy\n",
    "taxi=np.genfromtxt('/Users/saurabh/Documents/MLsets/nyc_taxis.csv',delimiter=',',skip_header=1)\n",
    "#or taxi=taxi[1:]  to skip header\n",
    "taxi_shape=taxi.shape"
   ]
  },
  {
   "cell_type": "code",
   "execution_count": 4,
   "metadata": {},
   "outputs": [
    {
     "data": {
      "text/plain": [
       "array([12, 14, 16, 18])"
      ]
     },
     "execution_count": 4,
     "metadata": {},
     "output_type": "execute_result"
    }
   ],
   "source": [
    "np.array([2,4,6,8]) + 10"
   ]
  },
  {
   "cell_type": "code",
   "execution_count": 5,
   "metadata": {},
   "outputs": [
    {
     "data": {
      "text/plain": [
       "array([ True,  True, False, False])"
      ]
     },
     "execution_count": 5,
     "metadata": {},
     "output_type": "execute_result"
    }
   ],
   "source": [
    "np.array([2,4,6,8]) < 5"
   ]
  },
  {
   "cell_type": "code",
   "execution_count": 7,
   "metadata": {},
   "outputs": [
    {
     "name": "stdout",
     "output_type": "stream",
     "text": [
      "[ True  True False False False]\n",
      "[ True  True False  True]\n",
      "[False  True False  True]\n"
     ]
    }
   ],
   "source": [
    "a = np.array([1, 2, 3, 4, 5])\n",
    "b = np.array([\"blue\", \"blue\", \"red\", \"blue\"])\n",
    "c = np.array([80.0, 103.4, 96.9, 200.3])\n",
    "print(a<3)\n",
    "print(b==\"blue\")\n",
    "print(c>100)"
   ]
  },
  {
   "cell_type": "code",
   "execution_count": 2,
   "metadata": {},
   "outputs": [
    {
     "data": {
      "text/plain": [
       "array([[2016.00, 1.00, 1.00, ..., 11.65, 69.99, 1.00],\n",
       "       [2016.00, 1.00, 1.00, ..., 8.00, 54.30, 1.00],\n",
       "       [2016.00, 1.00, 1.00, ..., 0.00, 37.80, 2.00],\n",
       "       ...,\n",
       "       [2016.00, 6.00, 30.00, ..., 5.00, 63.34, 1.00],\n",
       "       [2016.00, 6.00, 30.00, ..., 8.95, 44.75, 1.00],\n",
       "       [2016.00, 6.00, 30.00, ..., 0.00, 54.84, 2.00]])"
      ]
     },
     "execution_count": 2,
     "metadata": {},
     "output_type": "execute_result"
    }
   ],
   "source": [
    "taxi"
   ]
  },
  {
   "cell_type": "code",
   "execution_count": 9,
   "metadata": {},
   "outputs": [
    {
     "data": {
      "text/plain": [
       "(89560, 15)"
      ]
     },
     "execution_count": 9,
     "metadata": {},
     "output_type": "execute_result"
    }
   ],
   "source": [
    "taxi_shape"
   ]
  },
  {
   "cell_type": "code",
   "execution_count": 16,
   "metadata": {},
   "outputs": [],
   "source": [
    "pickup_month = taxi[:,1]\n",
    "\n",
    "february_bool=pickup_month==2\n",
    "february=pickup_month[february_bool]\n",
    "february_rides=february.shape[0]\n",
    "#boolean array must have the same length as the dimension you're indexing."
   ]
  },
  {
   "cell_type": "code",
   "execution_count": 17,
   "metadata": {},
   "outputs": [],
   "source": [
    "tip_amount = taxi[:,12]\n",
    "tip_bool=tip_amount>50\n",
    "top_tips=taxi[tip_bool,5:14]"
   ]
  },
  {
   "cell_type": "code",
   "execution_count": 18,
   "metadata": {},
   "outputs": [
    {
     "data": {
      "text/plain": [
       "array([[4.00, 2.00, 21.45, 2004.00, 52.00, 0.80, 0.00, 52.80, 105.60],\n",
       "       [3.00, 4.00, 9.20, 1041.00, 27.00, 1.30, 5.54, 60.00, 93.84],\n",
       "       [2.00, 0.00, 19.80, 1671.00, 52.50, 1.30, 5.54, 59.34, 118.68],\n",
       "       [4.00, 2.00, 18.42, 2968.00, 52.00, 0.80, 5.54, 80.00, 138.34],\n",
       "       [3.00, 6.00, 0.49, 158.00, 3.50, 1.80, 0.00, 70.00, 75.30],\n",
       "       [2.00, 2.00, 2.70, 381.00, 9.50, 0.80, 0.00, 60.00, 70.30],\n",
       "       [3.00, 4.00, 9.54, 1210.00, 27.50, 0.80, 5.54, 55.00, 88.84],\n",
       "       [2.00, 4.00, 17.60, 3251.00, 52.00, 0.80, 5.54, 65.00, 123.34],\n",
       "       [4.00, 2.00, 38.20, 9252.00, 52.00, 0.80, 5.54, 80.00, 138.34],\n",
       "       [4.00, 2.00, 18.00, 2276.00, 0.01, 0.30, 5.54, 62.00, 67.85],\n",
       "       [2.00, 0.00, 26.21, 17029.00, 180.50, 0.80, 5.54, 100.00, 286.84],\n",
       "       [2.00, 2.00, 0.00, 24.00, 2.50, 0.80, 0.00, 58.00, 61.30],\n",
       "       [2.00, 1.00, 18.21, 3160.00, 55.50, 0.80, 0.00, 62.00, 118.30],\n",
       "       [2.00, 2.00, 0.00, 3.00, 2.50, 1.80, 0.00, 75.70, 80.00],\n",
       "       [2.00, 4.00, 18.68, 5247.00, 52.00, 0.80, 5.54, 60.00, 118.34],\n",
       "       [4.00, 2.00, 18.17, 5860.00, 52.00, 0.80, 5.54, 70.00, 128.34]])"
      ]
     },
     "execution_count": 18,
     "metadata": {},
     "output_type": "execute_result"
    }
   ],
   "source": [
    "top_tips"
   ]
  },
  {
   "cell_type": "code",
   "execution_count": 19,
   "metadata": {},
   "outputs": [
    {
     "name": "stdout",
     "output_type": "stream",
     "text": [
      "['orange' 'blue' 'black' 'blue' 'purple']\n"
     ]
    }
   ],
   "source": [
    "a = np.array(['red','blue','black','blue','purple'])\n",
    "a[0] = 'orange'\n",
    "print(a)"
   ]
  },
  {
   "cell_type": "code",
   "execution_count": 20,
   "metadata": {},
   "outputs": [
    {
     "name": "stdout",
     "output_type": "stream",
     "text": [
      "['orange' 'blue' 'black' 'pink' 'pink']\n"
     ]
    }
   ],
   "source": [
    "a[3:] = 'pink'\n",
    "print(a)"
   ]
  },
  {
   "cell_type": "code",
   "execution_count": 21,
   "metadata": {},
   "outputs": [
    {
     "name": "stdout",
     "output_type": "stream",
     "text": [
      "[[ 1  1  1  1  1]\n",
      " [ 1  1 99  1  1]\n",
      " [ 1  1  1  1  1]]\n"
     ]
    }
   ],
   "source": [
    "ones = np.array([[1, 1, 1, 1, 1],\n",
    "                 [1, 1, 1, 1, 1],\n",
    "                 [1, 1, 1, 1, 1]])\n",
    "ones[1,2] = 99\n",
    "print(ones)"
   ]
  },
  {
   "cell_type": "code",
   "execution_count": 22,
   "metadata": {},
   "outputs": [
    {
     "name": "stdout",
     "output_type": "stream",
     "text": [
      "[[42 42 42 42 42]\n",
      " [ 1  1 99  1  1]\n",
      " [ 1  1  1  1  1]]\n"
     ]
    }
   ],
   "source": [
    "ones[0] = 42\n",
    "print(ones)"
   ]
  },
  {
   "cell_type": "code",
   "execution_count": 23,
   "metadata": {},
   "outputs": [
    {
     "name": "stdout",
     "output_type": "stream",
     "text": [
      "[[42 42  0 42 42]\n",
      " [ 1  1  0  1  1]\n",
      " [ 1  1  0  1  1]]\n"
     ]
    }
   ],
   "source": [
    "ones[:,2] = 0\n",
    "print(ones)"
   ]
  },
  {
   "cell_type": "code",
   "execution_count": 24,
   "metadata": {},
   "outputs": [],
   "source": [
    "taxi_modified = taxi.copy()  #making a copy\n",
    "taxi_modified[28214,5]=1   #value at 6th column and 28215 row changed to 1\n",
    "taxi_modified[:,0]=16  #first column values changes to 16\n",
    "taxi_modified[1800:1802,7]=taxi_modified[:,7].mean()   \n",
    "# values for two rows replaced at 8th column with mean of entire column"
   ]
  },
  {
   "cell_type": "code",
   "execution_count": 25,
   "metadata": {},
   "outputs": [
    {
     "name": "stdout",
     "output_type": "stream",
     "text": [
      "[1 2 3 4 5]\n",
      "[False False  True  True  True]\n",
      "[ 1  2 99 99 99]\n"
     ]
    }
   ],
   "source": [
    "a2 = np.array([1, 2, 3, 4, 5])\n",
    "print(a2)\n",
    "a2_bool = a2 > 2\n",
    "print(a2_bool)\n",
    "\n",
    "a2[a2_bool] = 99\n",
    "\n",
    "print(a2)"
   ]
  },
  {
   "cell_type": "code",
   "execution_count": 33,
   "metadata": {},
   "outputs": [
    {
     "data": {
      "text/plain": [
       "11832"
      ]
     },
     "execution_count": 33,
     "metadata": {},
     "output_type": "execute_result"
    }
   ],
   "source": [
    "(taxi[taxi[:,6]==2]).shape[0]"
   ]
  },
  {
   "cell_type": "code",
   "execution_count": 34,
   "metadata": {},
   "outputs": [],
   "source": [
    "jfk=taxi[taxi[:,6]==2]\n",
    "jfk_count=jfk.shape[0]\n",
    "laguardia=taxi[taxi[:,6]==3]\n",
    "laguardia_count=laguardia.shape[0]\n",
    "newark=taxi[taxi[:,6]==5]\n",
    "newark_count=newark.shape[0]"
   ]
  },
  {
   "cell_type": "code",
   "execution_count": 35,
   "metadata": {},
   "outputs": [],
   "source": [
    "trip_mph = taxi[:,7] / (taxi[:,8] / 3600)\n",
    "cleaned_taxi=taxi[trip_mph<100]\n",
    "mean_distance=cleaned_taxi[:,7].mean()\n",
    "mean_length=cleaned_taxi[:,8].mean()\n",
    "mean_total_amount=cleaned_taxi[:,13].mean()\n"
   ]
  },
  {
   "cell_type": "code",
   "execution_count": null,
   "metadata": {},
   "outputs": [],
   "source": []
  }
 ],
 "metadata": {
  "kernelspec": {
   "display_name": "Python 3",
   "language": "python",
   "name": "python3"
  },
  "language_info": {
   "codemirror_mode": {
    "name": "ipython",
    "version": 3
   },
   "file_extension": ".py",
   "mimetype": "text/x-python",
   "name": "python",
   "nbconvert_exporter": "python",
   "pygments_lexer": "ipython3",
   "version": "3.7.4"
  }
 },
 "nbformat": 4,
 "nbformat_minor": 2
}
